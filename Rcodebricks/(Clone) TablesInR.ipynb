{
 "cells": [
  {
   "cell_type": "code",
   "execution_count": 0,
   "metadata": {
    "application/vnd.databricks.v1+cell": {
     "cellMetadata": {
      "byteLimit": 2048000,
      "rowLimit": 10000
     },
     "inputWidgets": {},
     "nuid": "384cfd03-e807-453c-9b6e-ef004c630678",
     "showTitle": false,
     "tableResultSettingsMap": {},
     "title": ""
    }
   },
   "outputs": [],
   "source": [
    "%r"
   ]
  },
  {
   "cell_type": "code",
   "execution_count": 0,
   "metadata": {
    "application/vnd.databricks.v1+cell": {
     "cellMetadata": {
      "byteLimit": 2048000,
      "rowLimit": 10000
     },
     "inputWidgets": {},
     "nuid": "42586e02-5f41-45b9-907d-a709dead0fa0",
     "showTitle": false,
     "tableResultSettingsMap": {},
     "title": ""
    }
   },
   "outputs": [],
   "source": [
    "%r\n",
    "library(SparkR)\n",
    "library(sparklyr)\n",
    "library(dplyr) "
   ]
  },
  {
   "cell_type": "code",
   "execution_count": 0,
   "metadata": {
    "application/vnd.databricks.v1+cell": {
     "cellMetadata": {
      "byteLimit": 2048000,
      "rowLimit": 10000
     },
     "inputWidgets": {},
     "nuid": "0afb425b-701d-49fc-9961-b132afeb402b",
     "showTitle": false,
     "tableResultSettingsMap": {},
     "title": ""
    }
   },
   "outputs": [],
   "source": [
    "%r\n",
    "sc <- spark_connect(method= \"databricks\")"
   ]
  },
  {
   "cell_type": "markdown",
   "metadata": {
    "application/vnd.databricks.v1+cell": {
     "cellMetadata": {},
     "inputWidgets": {},
     "nuid": "1e762282-699a-4527-b39f-34962b1e4bba",
     "showTitle": false,
     "tableResultSettingsMap": {},
     "title": ""
    }
   },
   "source": [
    "To upload a file to DBFS - Databricks File Storage, in the Workspace, select:\n",
    "\n",
    "File > Upload data to DBFS\n",
    "\n",
    "This is accessible to people with access to workspace"
   ]
  },
  {
   "cell_type": "code",
   "execution_count": 0,
   "metadata": {
    "application/vnd.databricks.v1+cell": {
     "cellMetadata": {
      "byteLimit": 2048000,
      "rowLimit": 10000
     },
     "inputWidgets": {},
     "nuid": "fad05040-a9eb-4372-94b1-b23a376cd712",
     "showTitle": false,
     "tableResultSettingsMap": {},
     "title": ""
    }
   },
   "outputs": [],
   "source": [
    "%r\n",
    "jsonDF <- spark_read_json(\n",
    "  sc      = sc,\n",
    "  name    = \"jsonTable\",\n",
    "  path    = \"/FileStore/tables/books.json\",\n",
    "  options = list(\"multiLine\" = TRUE),\n",
    "  columns = c(\n",
    "    author    = \"character\",\n",
    "    country   = \"character\",\n",
    "    imageLink = \"character\",\n",
    "    language  = \"character\",\n",
    "    link      = \"character\",\n",
    "    pages     = \"integer\",\n",
    "    title     = \"character\",\n",
    "    year      = \"integer\"\n",
    "  )\n",
    ")\n",
    "\n"
   ]
  },
  {
   "cell_type": "code",
   "execution_count": 0,
   "metadata": {
    "application/vnd.databricks.v1+cell": {
     "cellMetadata": {
      "byteLimit": 2048000,
      "rowLimit": 10000
     },
     "inputWidgets": {},
     "nuid": "d58b8f6e-4937-4fe6-8b08-a602d680464b",
     "showTitle": false,
     "tableResultSettingsMap": {},
     "title": ""
    }
   },
   "outputs": [],
   "source": [
    "%r\n",
    "head(jsonDF)"
   ]
  },
  {
   "cell_type": "code",
   "execution_count": 0,
   "metadata": {
    "application/vnd.databricks.v1+cell": {
     "cellMetadata": {
      "byteLimit": 2048000,
      "rowLimit": 10000
     },
     "inputWidgets": {},
     "nuid": "4480a098-6321-4269-bf4d-8a49f269bb49",
     "showTitle": false,
     "tableResultSettingsMap": {},
     "title": ""
    }
   },
   "outputs": [],
   "source": [
    "%r\n",
    "show(jsonDF)"
   ]
  },
  {
   "cell_type": "code",
   "execution_count": 0,
   "metadata": {
    "application/vnd.databricks.v1+cell": {
     "cellMetadata": {
      "byteLimit": 2048000,
      "rowLimit": 10000
     },
     "inputWidgets": {},
     "nuid": "8940c5af-7e80-441f-b42e-214810c7dc5a",
     "showTitle": false,
     "tableResultSettingsMap": {},
     "title": ""
    }
   },
   "outputs": [],
   "source": [
    "%r\n",
    "collect(jsonDF)"
   ]
  },
  {
   "cell_type": "code",
   "execution_count": 0,
   "metadata": {
    "application/vnd.databricks.v1+cell": {
     "cellMetadata": {
      "byteLimit": 2048000,
      "rowLimit": 10000
     },
     "inputWidgets": {},
     "nuid": "b8b05107-c5c1-4a85-8a6f-fbef786bcd55",
     "showTitle": false,
     "tableResultSettingsMap": {},
     "title": ""
    }
   },
   "outputs": [],
   "source": [
    "%r  \n",
    " group_by(jsonDF, author) %>%\n",
    "  count() %>%\n",
    "  filter(author == \"Chinua Achebe\") %>%\n",
    "  arrange(desc(n)) \n",
    "  \n"
   ]
  },
  {
   "cell_type": "code",
   "execution_count": 0,
   "metadata": {
    "application/vnd.databricks.v1+cell": {
     "cellMetadata": {
      "byteLimit": 2048000,
      "rowLimit": 10000
     },
     "inputWidgets": {},
     "nuid": "930d006a-77b5-4b75-b649-4ead510190c1",
     "showTitle": false,
     "tableResultSettingsMap": {},
     "title": ""
    }
   },
   "outputs": [],
   "source": [
    "%r  \n",
    "group_by(jsonDF, author) %>%\n",
    "  count() %>%\n",
    "  arrange(desc(n))"
   ]
  },
  {
   "cell_type": "code",
   "execution_count": 0,
   "metadata": {
    "application/vnd.databricks.v1+cell": {
     "cellMetadata": {
      "byteLimit": 2048000,
      "rowLimit": 10000
     },
     "inputWidgets": {},
     "nuid": "f644c714-199b-479d-8ed8-97218b90dfc0",
     "showTitle": false,
     "tableResultSettingsMap": {},
     "title": ""
    }
   },
   "outputs": [],
   "source": [
    "%r  \n",
    "withDate <- jsonDF %>%\n",
    "  mutate(today = current_timestamp())\n",
    "\n",
    "collect(withDate)"
   ]
  },
  {
   "cell_type": "code",
   "execution_count": 0,
   "metadata": {
    "application/vnd.databricks.v1+cell": {
     "cellMetadata": {
      "byteLimit": 2048000,
      "rowLimit": 10000
     },
     "inputWidgets": {},
     "nuid": "cc0bee76-f405-4862-b5d8-df9e35c0160c",
     "showTitle": false,
     "tableResultSettingsMap": {},
     "title": ""
    }
   },
   "outputs": [],
   "source": [
    "%r  \n",
    "withMMyyyy <- withDate %>%\n",
    "  mutate(month = month(today),\n",
    "         year  = year(today))\n",
    "\n",
    "collect(select(withMMyyyy, c(\"author\", \"title\", \"month\", \"year\")))"
   ]
  },
  {
   "cell_type": "code",
   "execution_count": 0,
   "metadata": {
    "application/vnd.databricks.v1+cell": {
     "cellMetadata": {
      "byteLimit": 2048000,
      "rowLimit": 10000
     },
     "inputWidgets": {},
     "nuid": "cb465e0d-ae18-4365-be93-2d364363486c",
     "showTitle": false,
     "tableResultSettingsMap": {},
     "title": ""
    }
   },
   "outputs": [],
   "source": [
    "%r  \n",
    "withUnixTimestamp <- withMMyyyy %>%\n",
    "  mutate(formatted_date = date_format(today, \"yyyy-MM-dd\"),\n",
    "         day            = dayofmonth(formatted_date))\n",
    "\n",
    "collect(select(withUnixTimestamp, c(\"title\", \"formatted_date\", \"day\")))\n",
    "\n",
    "\n"
   ]
  },
  {
   "cell_type": "code",
   "execution_count": 0,
   "metadata": {
    "application/vnd.databricks.v1+cell": {
     "cellMetadata": {
      "byteLimit": 2048000,
      "rowLimit": 10000
     },
     "inputWidgets": {},
     "nuid": "a56644c2-9b80-47bc-a2d9-52ac8a3828fb",
     "showTitle": false,
     "tableResultSettingsMap": {},
     "title": ""
    }
   },
   "outputs": [],
   "source": [
    "%r\n",
    "# Ensure withTimestampDF is created\n",
    "withTimestampDF <- createDataFrame(data.frame(\n",
    "  author = c(\"Chinua Achebe\", \"Hans Christian Andersen\"),\n",
    "  country = c(\"Nigeria\", \"Denmark\"),\n",
    "  language = c(\"English\", \"Danish\"),\n",
    "  year = c(1958, 1836)\n",
    "))\n",
    "\n",
    "# Create a temporary view\n",
    "createOrReplaceTempView(withTimestampDF, viewName = \"timestampTable\")\n"
   ]
  },
  {
   "cell_type": "code",
   "execution_count": 0,
   "metadata": {
    "application/vnd.databricks.v1+cell": {
     "cellMetadata": {
      "byteLimit": 2048000,
      "rowLimit": 10000
     },
     "inputWidgets": {},
     "nuid": "ad8f1de6-75a6-4af1-bdf8-a33eb689196c",
     "showTitle": false,
     "tableResultSettingsMap": {},
     "title": ""
    }
   },
   "outputs": [],
   "source": [
    "%r  \n",
    "spark_read_table(\n",
    "  sc = sc,\n",
    "  name = \"timestampTable\"\n",
    ") %>% collect()\n"
   ]
  },
  {
   "cell_type": "code",
   "execution_count": 0,
   "metadata": {
    "application/vnd.databricks.v1+cell": {
     "cellMetadata": {
      "byteLimit": 2048000,
      "rowLimit": 10000
     },
     "inputWidgets": {},
     "nuid": "00af265f-e015-4f8c-a1c1-7a13d6a74f08",
     "showTitle": false,
     "tableResultSettingsMap": {},
     "title": ""
    }
   },
   "outputs": [],
   "source": [
    "%r  \n",
    "irisDF <- sdf_copy_to(\n",
    "  sc        = sc,\n",
    "  x         = iris,\n",
    "  name      = \"iris\",\n",
    "  overwrite = TRUE\n",
    ")\n",
    "\n",
    "sdf_collect(irisDF, \"row-wise\")"
   ]
  },
  {
   "cell_type": "code",
   "execution_count": 0,
   "metadata": {
    "application/vnd.databricks.v1+cell": {
     "cellMetadata": {
      "byteLimit": 2048000,
      "rowLimit": 10000
     },
     "inputWidgets": {},
     "nuid": "eb18c0c2-e68d-46b4-95fe-9fe9eb43e618",
     "showTitle": false,
     "tableResultSettingsMap": {},
     "title": ""
    }
   },
   "outputs": [],
   "source": [
    "%r  \n",
    "data(\"iris\")"
   ]
  },
  {
   "cell_type": "code",
   "execution_count": 0,
   "metadata": {
    "application/vnd.databricks.v1+cell": {
     "cellMetadata": {
      "byteLimit": 2048000,
      "rowLimit": 10000
     },
     "inputWidgets": {},
     "nuid": "a72fc03f-443a-45e0-8761-ee34fa3852ac",
     "showTitle": false,
     "tableResultSettingsMap": {},
     "title": ""
    }
   },
   "outputs": [],
   "source": [
    "%r  \n",
    "head(iris) "
   ]
  },
  {
   "cell_type": "code",
   "execution_count": 0,
   "metadata": {
    "application/vnd.databricks.v1+cell": {
     "cellMetadata": {
      "byteLimit": 2048000,
      "rowLimit": 10000
     },
     "inputWidgets": {},
     "nuid": "dc84919c-fe51-45fd-93cc-2347f85627ac",
     "showTitle": false,
     "tableResultSettingsMap": {},
     "title": ""
    }
   },
   "outputs": [],
   "source": [
    "%r  \n",
    "quantileDF <- irisDF %>%\n",
    "  group_by(Species) %>%\n",
    "  summarize(\n",
    "    quantile_25th = percentile_approx(\n",
    "      Sepal_Length,\n",
    "      0.25\n",
    "    ),\n",
    "    quantile_50th = percentile_approx(\n",
    "      Sepal_Length,\n",
    "      0.50\n",
    "    ),\n",
    "    quantile_75th = percentile_approx(\n",
    "      Sepal_Length,\n",
    "      0.75\n",
    "    ),\n",
    "    quantile_100th = percentile_approx(\n",
    "      Sepal_Length,\n",
    "      1.0\n",
    "    )\n",
    "  )\n",
    "\n",
    "collect(quantileDF)"
   ]
  },
  {
   "cell_type": "code",
   "execution_count": 0,
   "metadata": {
    "application/vnd.databricks.v1+cell": {
     "cellMetadata": {
      "byteLimit": 2048000,
      "rowLimit": 10000
     },
     "inputWidgets": {},
     "nuid": "45ea1a0d-31e8-4bfa-ad76-2ec2863b6993",
     "showTitle": false,
     "tableResultSettingsMap": {},
     "title": ""
    }
   },
   "outputs": [],
   "source": [
    "%r  \n",
    "print(sdf_quantile(\n",
    "  x = irisDF %>%\n",
    "    filter(Species == \"virginica\"),\n",
    "  column = \"Sepal_Length\",\n",
    "  probabilities = c(0.25, 0.5, 0.75, 1.0)\n",
    "))"
   ]
  },
  {
   "cell_type": "code",
   "execution_count": 0,
   "metadata": {
    "application/vnd.databricks.v1+cell": {
     "cellMetadata": {
      "byteLimit": 2048000,
      "rowLimit": 10000
     },
     "inputWidgets": {},
     "nuid": "8bf4c6b4-7e0e-413f-a356-a62fde130210",
     "showTitle": false,
     "tableResultSettingsMap": {},
     "title": ""
    }
   },
   "outputs": [],
   "source": [
    "%r  \n",
    "spark_disconnect(sc)"
   ]
  }
 ],
 "metadata": {
  "application/vnd.databricks.v1+notebook": {
   "computePreferences": null,
   "dashboards": [],
   "environmentMetadata": {
    "base_environment": "",
    "client": "1"
   },
   "language": "python",
   "notebookMetadata": {
    "pythonIndentUnit": 4
   },
   "notebookName": "(Clone) TablesInR",
   "widgets": {}
  },
  "language_info": {
   "name": "python"
  }
 },
 "nbformat": 4,
 "nbformat_minor": 0
}
